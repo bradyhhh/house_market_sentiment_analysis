{
 "cells": [
  {
   "cell_type": "code",
   "execution_count": 12,
   "id": "fd9c0ccb-2034-4633-95b6-cbfeea06f9d7",
   "metadata": {},
   "outputs": [],
   "source": [
    "import jieba\n",
    "import numpy as np\n",
    "import pandas as pd\n",
    "import pickle\n",
    "from util_text_cleaner.text_cleaner import TextCleaner\n",
    "from util_model.model_helper import FeatureKBest"
   ]
  },
  {
   "cell_type": "markdown",
   "id": "b1799136-86c7-4e62-bd1e-681b04a82f0c",
   "metadata": {},
   "source": [
    "# Check Word2Vec Model Result"
   ]
  },
  {
   "cell_type": "markdown",
   "id": "c0598bf6-0a7e-4931-aba6-4bc0864103ed",
   "metadata": {},
   "source": [
    "Belows are some examples of the similar terms in our pre-trained word2vector model."
   ]
  },
  {
   "cell_type": "code",
   "execution_count": 21,
   "id": "9881a46a-b212-4928-aa38-ea428faa0b8f",
   "metadata": {},
   "outputs": [],
   "source": [
    "from gensim.models import Word2Vec\n",
    "model300 = Word2Vec.load(\"result/word2vec_result/word2vec.model300\")"
   ]
  },
  {
   "cell_type": "code",
   "execution_count": 442,
   "id": "f1e25b81-c294-46c1-9e47-8c001ad672fa",
   "metadata": {},
   "outputs": [
    {
     "data": {
      "text/plain": [
       "[('彭總裁', 0.7710217237472534),\n",
       " ('央行', 0.729074239730835),\n",
       " ('張盛和', 0.7097881436347961),\n",
       " ('財政部長', 0.6743882894515991),\n",
       " ('中央銀行', 0.6690319180488586)]"
      ]
     },
     "execution_count": 442,
     "metadata": {},
     "output_type": "execute_result"
    }
   ],
   "source": [
    "model300.wv.most_similar('彭淮南', topn=5)"
   ]
  },
  {
   "cell_type": "code",
   "execution_count": 443,
   "id": "284f68e2-4237-4847-a011-7d3f56f7ad53",
   "metadata": {},
   "outputs": [
    {
     "data": {
      "text/plain": [
       "[('屋價', 0.7838715314865112),\n",
       " ('房地價', 0.6767888069152832),\n",
       " ('土地價格', 0.6736090779304504),\n",
       " ('房市', 0.672882616519928),\n",
       " ('物價', 0.6563156247138977)]"
      ]
     },
     "execution_count": 443,
     "metadata": {},
     "output_type": "execute_result"
    }
   ],
   "source": [
    "model300.wv.most_similar('房價', topn=5)"
   ]
  },
  {
   "cell_type": "code",
   "execution_count": 444,
   "id": "1cfba9ca-63ef-4368-b80b-5742c574e589",
   "metadata": {},
   "outputs": [
    {
     "data": {
      "text/plain": [
       "[('唱衰', 0.8339731693267822),\n",
       " ('看壞', 0.798155665397644),\n",
       " ('看空', 0.7457432746887207),\n",
       " ('唱雖', 0.7350273728370667),\n",
       " ('唱空', 0.6866986155509949)]"
      ]
     },
     "execution_count": 444,
     "metadata": {},
     "output_type": "execute_result"
    }
   ],
   "source": [
    "model300.wv.most_similar('看衰', topn=5)"
   ]
  },
  {
   "cell_type": "code",
   "execution_count": 445,
   "id": "1ccc6f71-be39-4a15-9365-bc2c6372c7a1",
   "metadata": {},
   "outputs": [
    {
     "data": {
      "text/plain": [
       "[('飛漲', 0.8241196870803833),\n",
       " ('狂飆', 0.7983549237251282),\n",
       " ('飆升', 0.7962146997451782),\n",
       " ('上漲', 0.7787458300590515),\n",
       " ('狂漲', 0.769774854183197)]"
      ]
     },
     "execution_count": 445,
     "metadata": {},
     "output_type": "execute_result"
    }
   ],
   "source": [
    "model300.wv.most_similar('飆漲', topn=5)"
   ]
  },
  {
   "cell_type": "markdown",
   "id": "e190a67b-27ff-4aea-b910-da715f923ca4",
   "metadata": {},
   "source": [
    "# Check xgb model result "
   ]
  },
  {
   "cell_type": "markdown",
   "id": "192356ad-9796-4bcd-a521-6e92f0b19a38",
   "metadata": {},
   "source": [
    "Below are the performance of xgb model on test set. The model achieves a weighted F1 score of 0.72 and an accuracy of 0.72."
   ]
  },
  {
   "cell_type": "code",
   "execution_count": 446,
   "id": "71e3b3b3-dd3f-4b75-a29f-20ccc88fdb51",
   "metadata": {},
   "outputs": [],
   "source": [
    "# Read model\n",
    "filename = 'result/model_result/xgb_model.pkl'\n",
    "xgb_model = pickle.load(open(filename, 'rb'))"
   ]
  },
  {
   "cell_type": "code",
   "execution_count": 448,
   "id": "641ac940-0bfc-4ab8-bb7d-6e8344226586",
   "metadata": {},
   "outputs": [
    {
     "name": "stdout",
     "output_type": "stream",
     "text": [
      "Generate Word2Vector features.\n",
      "Finished.\n",
      "Generate 3000 KBest features.\n",
      "Finished.\n"
     ]
    }
   ],
   "source": [
    "# Make prediction on the test set\n",
    "test = pd.read_pickle('data/test_data.pkl')\n",
    "y_test = test['label']\n",
    "y_pred = xgb_model.predict(test)"
   ]
  },
  {
   "cell_type": "code",
   "execution_count": 449,
   "id": "2ed27348-368c-4db4-af3a-fe4cbc1081bd",
   "metadata": {},
   "outputs": [
    {
     "name": "stdout",
     "output_type": "stream",
     "text": [
      "f1 : 0.7195948622900562\n",
      "accuracy : 0.7237087741132545\n"
     ]
    }
   ],
   "source": [
    "from sklearn.metrics import f1_score, confusion_matrix\n",
    "\n",
    "# check model performance on the test set\n",
    "f1 = f1_score(y_test, y_pred, average = 'weighted')\n",
    "accu = f1_score(y_test, y_pred, average = 'micro')\n",
    "print(f'f1 : {f1}')\n",
    "print(f'accuracy : {accu}')"
   ]
  },
  {
   "cell_type": "code",
   "execution_count": 450,
   "id": "a8c00823-71e6-4153-9d1e-be3a8ff62ccb",
   "metadata": {},
   "outputs": [
    {
     "data": {
      "text/plain": [
       "array([[251, 114,  36],\n",
       "       [ 67, 671,  61],\n",
       "       [ 64, 102, 241]])"
      ]
     },
     "execution_count": 450,
     "metadata": {},
     "output_type": "execute_result"
    }
   ],
   "source": [
    "# check the confusion matrix result\n",
    "## The confusion matrix shows that while the model is good at seperating negative and positive sentiments, \n",
    "## the performance of seperating netrual and positive/negative sentiments can be improved.\n",
    "cm = confusion_matrix(y_test, y_pred)\n",
    "cm"
   ]
  },
  {
   "cell_type": "code",
   "execution_count": 451,
   "id": "b65d5a9d-29c9-4e8d-9e3a-64b10e73e0d2",
   "metadata": {},
   "outputs": [
    {
     "data": {
      "text/plain": [
       "array(['千萬不要買台灣房地產已經負成長了高雄又是人口負成長的前段班有錢人再撐沒錢人也在撐如果不是急著買屋真的不急用薪水來買現在的屋是最笨的現在薪水那麼低年輕人大部分都是沒能力購屋的一群買下去等著跌而已不是自己的錢不怕跌的就買而已'],\n",
       "      dtype=object)"
      ]
     },
     "execution_count": 451,
     "metadata": {},
     "output_type": "execute_result"
    }
   ],
   "source": [
    "# Demo the predicted result of negative sentiment\n",
    "test[y_pred == 0].sample(1)['content'].values"
   ]
  },
  {
   "cell_type": "code",
   "execution_count": 458,
   "id": "d51ea19c-c1b0-4749-94ae-7b87bb368481",
   "metadata": {},
   "outputs": [
    {
     "data": {
      "text/plain": [
       "array([' 昨天開車去康橋周邊和龜山區的新重劃區繞了一圈，康橋鷹架已經全部拆除，正在整四周的退縮部分，已接近完工。Morrison 則剛剛架起第一棟的鋼構，順道去看一下一戶9000萬的別墅，外觀特別。A7周圍重劃區，靠文化一路左邊架起不少建案的大型廣告看板和接待中心，右邊則是幾家公司總部正在整地施工，中華郵政那塊地大的不像話，區域還沒有看過單一開案發地那麼大的。整個A7周邊看起來氣氛熱絡，未來榮景可期  '],\n",
       "      dtype=object)"
      ]
     },
     "execution_count": 458,
     "metadata": {},
     "output_type": "execute_result"
    }
   ],
   "source": [
    "# Demo the predicted result of positive sentiment\n",
    "test[y_pred == 2].sample(1)['content'].values"
   ]
  },
  {
   "cell_type": "markdown",
   "id": "9806b9b2-3be3-4c0e-adc5-d72892b5da6f",
   "metadata": {},
   "source": [
    "# Implement the model to the posts in forum of Taipei City"
   ]
  },
  {
   "cell_type": "code",
   "execution_count": 10,
   "id": "65ffee44-447a-4a60-a9af-4f1d0f8f1248",
   "metadata": {},
   "outputs": [],
   "source": [
    "# read data\n",
    "taipei = pd.read_pickle('data/taipei.pkl')"
   ]
  },
  {
   "cell_type": "code",
   "execution_count": 11,
   "id": "128e12eb-b6cd-44a3-b6ea-d53681cfbe74",
   "metadata": {},
   "outputs": [
    {
     "name": "stderr",
     "output_type": "stream",
     "text": [
      "Building prefix dict from the default dictionary ...\n",
      "Loading model from cache /var/folders/l6/6gclw8gd309_xq4q2s1hzmz40000gn/T/jieba.cache\n",
      "Loading model cost 0.483 seconds.\n",
      "Prefix dict has been built successfully.\n",
      "Building prefix dict from /Users/gogolook/house_market_sentiment_analysis/util_text_cleaner/dict.txt ...\n",
      "Loading model from cache /var/folders/l6/6gclw8gd309_xq4q2s1hzmz40000gn/T/jieba.u1e159fae52356dba817fc578c7433c43.cache\n",
      "Loading model cost 0.874 seconds.\n",
      "Prefix dict has been built successfully.\n"
     ]
    }
   ],
   "source": [
    "# Clean text and generate cut and corpus\n",
    "tc = TextCleaner()\n",
    "taipei['content_cleaned'] = tc.clean_text(taipei['content'].astype(str))\n",
    "taipei['cut'], taipei['corpus'] = tc.lcut_to_corpus(taipei['content_cleaned'])"
   ]
  },
  {
   "cell_type": "code",
   "execution_count": 13,
   "id": "26835653-6ec0-47db-bf7e-9a63924e67bf",
   "metadata": {},
   "outputs": [],
   "source": [
    "# Generate 1 - 5 gram cut\n",
    "f_kb = FeatureKBest(k = 3000)\n",
    "taipei['n_gram_cut'] = f_kb.gen_gram_cut(taipei['content_cleaned'], max_n = 5)"
   ]
  },
  {
   "cell_type": "code",
   "execution_count": 19,
   "id": "d34e1050-faa3-41fc-aefe-208ab87b338f",
   "metadata": {},
   "outputs": [
    {
     "name": "stdout",
     "output_type": "stream",
     "text": [
      "Generate Word2Vector features.\n"
     ]
    },
    {
     "name": "stderr",
     "output_type": "stream",
     "text": [
      "/Users/gogolook/Library/Python/3.9/lib/python/site-packages/numpy/core/fromnumeric.py:3504: RuntimeWarning: Mean of empty slice.\n",
      "  return _methods._mean(a, axis=axis, dtype=dtype,\n",
      "/Users/gogolook/Library/Python/3.9/lib/python/site-packages/numpy/core/_methods.py:121: RuntimeWarning: invalid value encountered in divide\n",
      "  ret = um.true_divide(\n"
     ]
    },
    {
     "name": "stdout",
     "output_type": "stream",
     "text": [
      "Finished.\n",
      "Generate 3000 KBest features.\n",
      "Finished.\n"
     ]
    }
   ],
   "source": [
    "# Make predictions\n",
    "taipei['pred'] = xgb_model.predict(taipei)"
   ]
  },
  {
   "cell_type": "markdown",
   "id": "ac34cb65-beec-45b8-a4b0-3c031bba5279",
   "metadata": {},
   "source": [
    "# Evaluate results"
   ]
  },
  {
   "cell_type": "markdown",
   "id": "61d159ed-edd9-4b9b-b2a8-21e9ee6c4d9f",
   "metadata": {},
   "source": [
    "In this section, I compute sentiment ratios for different quarters, where <br>\n",
    "$$ \\text{Sentiment Ratio} = \\frac{\\text{Positive Sentiment} - \\text{Negative Sentiment}}{\\text{Positive Sentiment} + \\text{Negative Sentiment}} $$, is obtained by comparing positive to negative sentiment counts. <br>\n",
    "\n",
    "Subsequently, I correlate these sentiment ratios with house prices in Taipei from 2009 to 2018. The house price data is sourced from [Sinyi Realty (信義房屋)](https://www.sinyinews.com.tw/quarterly?sinyisid=MjAyMzA4MTQxMTMxNTAzMTg=), which specifically focuses on residential property transactions. It provides one of the most representive house price index in Taiwan."
   ]
  },
  {
   "cell_type": "code",
   "execution_count": 265,
   "id": "27844ec7-d9d2-4857-8646-dc6e9d1e027b",
   "metadata": {},
   "outputs": [],
   "source": [
    "# Generate quarter column \n",
    "taipei['post_time'] = pd.to_datetime(taipei['post_time'])\n",
    "taipei['yq'] = taipei['post_time'].dt.to_period('Q')"
   ]
  },
  {
   "cell_type": "code",
   "execution_count": 142,
   "id": "b5ae00cd-da01-4ebe-81fa-a68214bf050e",
   "metadata": {},
   "outputs": [],
   "source": [
    "# (map predicted result to {0:-1(depreciation), 1:0(Neutral), 2:1(Appreciation)})\n",
    "taipei['pred'] = taipei['pred'] - 1 "
   ]
  },
  {
   "cell_type": "code",
   "execution_count": 462,
   "id": "240bae59-b0a5-44a7-b357-790d262661ec",
   "metadata": {},
   "outputs": [
    {
     "data": {
      "text/html": [
       "<div>\n",
       "<style scoped>\n",
       "    .dataframe tbody tr th:only-of-type {\n",
       "        vertical-align: middle;\n",
       "    }\n",
       "\n",
       "    .dataframe tbody tr th {\n",
       "        vertical-align: top;\n",
       "    }\n",
       "\n",
       "    .dataframe thead th {\n",
       "        text-align: right;\n",
       "    }\n",
       "</style>\n",
       "<table border=\"1\" class=\"dataframe\">\n",
       "  <thead>\n",
       "    <tr style=\"text-align: right;\">\n",
       "      <th></th>\n",
       "      <th>yq</th>\n",
       "      <th>total_counts</th>\n",
       "      <th>postive_counts</th>\n",
       "      <th>negative_counts</th>\n",
       "      <th>sentiment</th>\n",
       "    </tr>\n",
       "  </thead>\n",
       "  <tbody>\n",
       "    <tr>\n",
       "      <th>0</th>\n",
       "      <td>2007Q4</td>\n",
       "      <td>32</td>\n",
       "      <td>3</td>\n",
       "      <td>1</td>\n",
       "      <td>0.500000</td>\n",
       "    </tr>\n",
       "    <tr>\n",
       "      <th>1</th>\n",
       "      <td>2008Q1</td>\n",
       "      <td>287</td>\n",
       "      <td>57</td>\n",
       "      <td>19</td>\n",
       "      <td>0.500000</td>\n",
       "    </tr>\n",
       "    <tr>\n",
       "      <th>2</th>\n",
       "      <td>2008Q2</td>\n",
       "      <td>421</td>\n",
       "      <td>41</td>\n",
       "      <td>12</td>\n",
       "      <td>0.547170</td>\n",
       "    </tr>\n",
       "    <tr>\n",
       "      <th>3</th>\n",
       "      <td>2008Q3</td>\n",
       "      <td>1536</td>\n",
       "      <td>146</td>\n",
       "      <td>229</td>\n",
       "      <td>-0.221333</td>\n",
       "    </tr>\n",
       "    <tr>\n",
       "      <th>4</th>\n",
       "      <td>2008Q4</td>\n",
       "      <td>1902</td>\n",
       "      <td>137</td>\n",
       "      <td>191</td>\n",
       "      <td>-0.164634</td>\n",
       "    </tr>\n",
       "    <tr>\n",
       "      <th>5</th>\n",
       "      <td>2009Q1</td>\n",
       "      <td>3428</td>\n",
       "      <td>229</td>\n",
       "      <td>275</td>\n",
       "      <td>-0.091270</td>\n",
       "    </tr>\n",
       "    <tr>\n",
       "      <th>6</th>\n",
       "      <td>2009Q2</td>\n",
       "      <td>5309</td>\n",
       "      <td>475</td>\n",
       "      <td>286</td>\n",
       "      <td>0.248357</td>\n",
       "    </tr>\n",
       "    <tr>\n",
       "      <th>7</th>\n",
       "      <td>2009Q3</td>\n",
       "      <td>7826</td>\n",
       "      <td>573</td>\n",
       "      <td>377</td>\n",
       "      <td>0.206316</td>\n",
       "    </tr>\n",
       "    <tr>\n",
       "      <th>8</th>\n",
       "      <td>2009Q4</td>\n",
       "      <td>7705</td>\n",
       "      <td>620</td>\n",
       "      <td>422</td>\n",
       "      <td>0.190019</td>\n",
       "    </tr>\n",
       "    <tr>\n",
       "      <th>9</th>\n",
       "      <td>2010Q1</td>\n",
       "      <td>8497</td>\n",
       "      <td>747</td>\n",
       "      <td>666</td>\n",
       "      <td>0.057325</td>\n",
       "    </tr>\n",
       "    <tr>\n",
       "      <th>10</th>\n",
       "      <td>2010Q2</td>\n",
       "      <td>9007</td>\n",
       "      <td>814</td>\n",
       "      <td>552</td>\n",
       "      <td>0.191801</td>\n",
       "    </tr>\n",
       "    <tr>\n",
       "      <th>11</th>\n",
       "      <td>2010Q3</td>\n",
       "      <td>9418</td>\n",
       "      <td>733</td>\n",
       "      <td>563</td>\n",
       "      <td>0.131173</td>\n",
       "    </tr>\n",
       "    <tr>\n",
       "      <th>12</th>\n",
       "      <td>2010Q4</td>\n",
       "      <td>10966</td>\n",
       "      <td>859</td>\n",
       "      <td>653</td>\n",
       "      <td>0.136243</td>\n",
       "    </tr>\n",
       "    <tr>\n",
       "      <th>13</th>\n",
       "      <td>2011Q1</td>\n",
       "      <td>9371</td>\n",
       "      <td>718</td>\n",
       "      <td>654</td>\n",
       "      <td>0.046647</td>\n",
       "    </tr>\n",
       "    <tr>\n",
       "      <th>14</th>\n",
       "      <td>2011Q2</td>\n",
       "      <td>9767</td>\n",
       "      <td>704</td>\n",
       "      <td>597</td>\n",
       "      <td>0.082244</td>\n",
       "    </tr>\n",
       "    <tr>\n",
       "      <th>15</th>\n",
       "      <td>2011Q3</td>\n",
       "      <td>9385</td>\n",
       "      <td>645</td>\n",
       "      <td>457</td>\n",
       "      <td>0.170599</td>\n",
       "    </tr>\n",
       "    <tr>\n",
       "      <th>16</th>\n",
       "      <td>2011Q4</td>\n",
       "      <td>6804</td>\n",
       "      <td>414</td>\n",
       "      <td>309</td>\n",
       "      <td>0.145228</td>\n",
       "    </tr>\n",
       "    <tr>\n",
       "      <th>17</th>\n",
       "      <td>2012Q1</td>\n",
       "      <td>11851</td>\n",
       "      <td>378</td>\n",
       "      <td>197</td>\n",
       "      <td>0.314783</td>\n",
       "    </tr>\n",
       "    <tr>\n",
       "      <th>18</th>\n",
       "      <td>2012Q2</td>\n",
       "      <td>18254</td>\n",
       "      <td>475</td>\n",
       "      <td>224</td>\n",
       "      <td>0.359084</td>\n",
       "    </tr>\n",
       "    <tr>\n",
       "      <th>19</th>\n",
       "      <td>2012Q3</td>\n",
       "      <td>9056</td>\n",
       "      <td>367</td>\n",
       "      <td>123</td>\n",
       "      <td>0.497959</td>\n",
       "    </tr>\n",
       "    <tr>\n",
       "      <th>20</th>\n",
       "      <td>2012Q4</td>\n",
       "      <td>7110</td>\n",
       "      <td>297</td>\n",
       "      <td>124</td>\n",
       "      <td>0.410926</td>\n",
       "    </tr>\n",
       "    <tr>\n",
       "      <th>21</th>\n",
       "      <td>2013Q1</td>\n",
       "      <td>5665</td>\n",
       "      <td>254</td>\n",
       "      <td>104</td>\n",
       "      <td>0.418994</td>\n",
       "    </tr>\n",
       "    <tr>\n",
       "      <th>22</th>\n",
       "      <td>2013Q2</td>\n",
       "      <td>8996</td>\n",
       "      <td>354</td>\n",
       "      <td>110</td>\n",
       "      <td>0.525862</td>\n",
       "    </tr>\n",
       "    <tr>\n",
       "      <th>23</th>\n",
       "      <td>2013Q3</td>\n",
       "      <td>5604</td>\n",
       "      <td>291</td>\n",
       "      <td>136</td>\n",
       "      <td>0.362998</td>\n",
       "    </tr>\n",
       "    <tr>\n",
       "      <th>24</th>\n",
       "      <td>2013Q4</td>\n",
       "      <td>5355</td>\n",
       "      <td>293</td>\n",
       "      <td>119</td>\n",
       "      <td>0.422330</td>\n",
       "    </tr>\n",
       "    <tr>\n",
       "      <th>25</th>\n",
       "      <td>2014Q1</td>\n",
       "      <td>3205</td>\n",
       "      <td>209</td>\n",
       "      <td>97</td>\n",
       "      <td>0.366013</td>\n",
       "    </tr>\n",
       "    <tr>\n",
       "      <th>26</th>\n",
       "      <td>2014Q2</td>\n",
       "      <td>4650</td>\n",
       "      <td>251</td>\n",
       "      <td>129</td>\n",
       "      <td>0.321053</td>\n",
       "    </tr>\n",
       "    <tr>\n",
       "      <th>27</th>\n",
       "      <td>2014Q3</td>\n",
       "      <td>2685</td>\n",
       "      <td>160</td>\n",
       "      <td>116</td>\n",
       "      <td>0.159420</td>\n",
       "    </tr>\n",
       "    <tr>\n",
       "      <th>28</th>\n",
       "      <td>2014Q4</td>\n",
       "      <td>2465</td>\n",
       "      <td>131</td>\n",
       "      <td>42</td>\n",
       "      <td>0.514451</td>\n",
       "    </tr>\n",
       "    <tr>\n",
       "      <th>29</th>\n",
       "      <td>2015Q1</td>\n",
       "      <td>2697</td>\n",
       "      <td>116</td>\n",
       "      <td>69</td>\n",
       "      <td>0.254054</td>\n",
       "    </tr>\n",
       "    <tr>\n",
       "      <th>30</th>\n",
       "      <td>2015Q2</td>\n",
       "      <td>1927</td>\n",
       "      <td>105</td>\n",
       "      <td>81</td>\n",
       "      <td>0.129032</td>\n",
       "    </tr>\n",
       "    <tr>\n",
       "      <th>31</th>\n",
       "      <td>2015Q3</td>\n",
       "      <td>1906</td>\n",
       "      <td>113</td>\n",
       "      <td>94</td>\n",
       "      <td>0.091787</td>\n",
       "    </tr>\n",
       "    <tr>\n",
       "      <th>32</th>\n",
       "      <td>2015Q4</td>\n",
       "      <td>1835</td>\n",
       "      <td>84</td>\n",
       "      <td>87</td>\n",
       "      <td>-0.017544</td>\n",
       "    </tr>\n",
       "    <tr>\n",
       "      <th>33</th>\n",
       "      <td>2016Q1</td>\n",
       "      <td>1676</td>\n",
       "      <td>81</td>\n",
       "      <td>109</td>\n",
       "      <td>-0.147368</td>\n",
       "    </tr>\n",
       "    <tr>\n",
       "      <th>34</th>\n",
       "      <td>2016Q2</td>\n",
       "      <td>1760</td>\n",
       "      <td>69</td>\n",
       "      <td>67</td>\n",
       "      <td>0.014706</td>\n",
       "    </tr>\n",
       "    <tr>\n",
       "      <th>35</th>\n",
       "      <td>2016Q3</td>\n",
       "      <td>1350</td>\n",
       "      <td>56</td>\n",
       "      <td>63</td>\n",
       "      <td>-0.058824</td>\n",
       "    </tr>\n",
       "    <tr>\n",
       "      <th>36</th>\n",
       "      <td>2016Q4</td>\n",
       "      <td>1157</td>\n",
       "      <td>65</td>\n",
       "      <td>63</td>\n",
       "      <td>0.015625</td>\n",
       "    </tr>\n",
       "    <tr>\n",
       "      <th>37</th>\n",
       "      <td>2017Q1</td>\n",
       "      <td>1271</td>\n",
       "      <td>42</td>\n",
       "      <td>51</td>\n",
       "      <td>-0.096774</td>\n",
       "    </tr>\n",
       "    <tr>\n",
       "      <th>38</th>\n",
       "      <td>2017Q2</td>\n",
       "      <td>1209</td>\n",
       "      <td>72</td>\n",
       "      <td>75</td>\n",
       "      <td>-0.020408</td>\n",
       "    </tr>\n",
       "    <tr>\n",
       "      <th>39</th>\n",
       "      <td>2017Q3</td>\n",
       "      <td>1414</td>\n",
       "      <td>68</td>\n",
       "      <td>67</td>\n",
       "      <td>0.007407</td>\n",
       "    </tr>\n",
       "    <tr>\n",
       "      <th>40</th>\n",
       "      <td>2017Q4</td>\n",
       "      <td>927</td>\n",
       "      <td>50</td>\n",
       "      <td>42</td>\n",
       "      <td>0.086957</td>\n",
       "    </tr>\n",
       "    <tr>\n",
       "      <th>41</th>\n",
       "      <td>2018Q1</td>\n",
       "      <td>1103</td>\n",
       "      <td>46</td>\n",
       "      <td>42</td>\n",
       "      <td>0.045455</td>\n",
       "    </tr>\n",
       "    <tr>\n",
       "      <th>42</th>\n",
       "      <td>2018Q2</td>\n",
       "      <td>1102</td>\n",
       "      <td>68</td>\n",
       "      <td>39</td>\n",
       "      <td>0.271028</td>\n",
       "    </tr>\n",
       "    <tr>\n",
       "      <th>43</th>\n",
       "      <td>2018Q3</td>\n",
       "      <td>2159</td>\n",
       "      <td>110</td>\n",
       "      <td>88</td>\n",
       "      <td>0.111111</td>\n",
       "    </tr>\n",
       "    <tr>\n",
       "      <th>44</th>\n",
       "      <td>2018Q4</td>\n",
       "      <td>974</td>\n",
       "      <td>55</td>\n",
       "      <td>43</td>\n",
       "      <td>0.122449</td>\n",
       "    </tr>\n",
       "  </tbody>\n",
       "</table>\n",
       "</div>"
      ],
      "text/plain": [
       "        yq  total_counts  postive_counts  negative_counts  sentiment\n",
       "0   2007Q4            32               3                1   0.500000\n",
       "1   2008Q1           287              57               19   0.500000\n",
       "2   2008Q2           421              41               12   0.547170\n",
       "3   2008Q3          1536             146              229  -0.221333\n",
       "4   2008Q4          1902             137              191  -0.164634\n",
       "5   2009Q1          3428             229              275  -0.091270\n",
       "6   2009Q2          5309             475              286   0.248357\n",
       "7   2009Q3          7826             573              377   0.206316\n",
       "8   2009Q4          7705             620              422   0.190019\n",
       "9   2010Q1          8497             747              666   0.057325\n",
       "10  2010Q2          9007             814              552   0.191801\n",
       "11  2010Q3          9418             733              563   0.131173\n",
       "12  2010Q4         10966             859              653   0.136243\n",
       "13  2011Q1          9371             718              654   0.046647\n",
       "14  2011Q2          9767             704              597   0.082244\n",
       "15  2011Q3          9385             645              457   0.170599\n",
       "16  2011Q4          6804             414              309   0.145228\n",
       "17  2012Q1         11851             378              197   0.314783\n",
       "18  2012Q2         18254             475              224   0.359084\n",
       "19  2012Q3          9056             367              123   0.497959\n",
       "20  2012Q4          7110             297              124   0.410926\n",
       "21  2013Q1          5665             254              104   0.418994\n",
       "22  2013Q2          8996             354              110   0.525862\n",
       "23  2013Q3          5604             291              136   0.362998\n",
       "24  2013Q4          5355             293              119   0.422330\n",
       "25  2014Q1          3205             209               97   0.366013\n",
       "26  2014Q2          4650             251              129   0.321053\n",
       "27  2014Q3          2685             160              116   0.159420\n",
       "28  2014Q4          2465             131               42   0.514451\n",
       "29  2015Q1          2697             116               69   0.254054\n",
       "30  2015Q2          1927             105               81   0.129032\n",
       "31  2015Q3          1906             113               94   0.091787\n",
       "32  2015Q4          1835              84               87  -0.017544\n",
       "33  2016Q1          1676              81              109  -0.147368\n",
       "34  2016Q2          1760              69               67   0.014706\n",
       "35  2016Q3          1350              56               63  -0.058824\n",
       "36  2016Q4          1157              65               63   0.015625\n",
       "37  2017Q1          1271              42               51  -0.096774\n",
       "38  2017Q2          1209              72               75  -0.020408\n",
       "39  2017Q3          1414              68               67   0.007407\n",
       "40  2017Q4           927              50               42   0.086957\n",
       "41  2018Q1          1103              46               42   0.045455\n",
       "42  2018Q2          1102              68               39   0.271028\n",
       "43  2018Q3          2159             110               88   0.111111\n",
       "44  2018Q4           974              55               43   0.122449"
      ]
     },
     "execution_count": 462,
     "metadata": {},
     "output_type": "execute_result"
    }
   ],
   "source": [
    "# calculate the general sentiment of taipei house market\n",
    "t1 = taipei.groupby(['yq']).agg(\n",
    "                                    total_counts = ('pred', lambda x : len(x))\n",
    "                                    , postive_counts = ('pred', lambda x : np.sum(x==1))\n",
    "                                    , negative_counts = ('pred', lambda x : np.sum(x==-1))\n",
    "                                    , sentiment = ('pred', lambda x: np.sum(x)*1.0 / np.sum(np.abs(x)))\n",
    "                                ).reset_index()\n",
    "t1['yq'] = t1['yq'].astype(str)\n",
    "t1"
   ]
  },
  {
   "cell_type": "code",
   "execution_count": 299,
   "id": "fbf8fd63-4ed5-4cdb-8755-db3ccd434d85",
   "metadata": {},
   "outputs": [
    {
     "data": {
      "text/html": [
       "<div>\n",
       "<style scoped>\n",
       "    .dataframe tbody tr th:only-of-type {\n",
       "        vertical-align: middle;\n",
       "    }\n",
       "\n",
       "    .dataframe tbody tr th {\n",
       "        vertical-align: top;\n",
       "    }\n",
       "\n",
       "    .dataframe thead th {\n",
       "        text-align: right;\n",
       "    }\n",
       "</style>\n",
       "<table border=\"1\" class=\"dataframe\">\n",
       "  <thead>\n",
       "    <tr style=\"text-align: right;\">\n",
       "      <th></th>\n",
       "      <th>county_eng</th>\n",
       "      <th>county</th>\n",
       "      <th>year</th>\n",
       "      <th>quarter</th>\n",
       "      <th>yq</th>\n",
       "      <th>sinyi_price</th>\n",
       "    </tr>\n",
       "  </thead>\n",
       "  <tbody>\n",
       "    <tr>\n",
       "      <th>0</th>\n",
       "      <td>Taichung City</td>\n",
       "      <td>台中市</td>\n",
       "      <td>2009</td>\n",
       "      <td>1</td>\n",
       "      <td>2009Q1</td>\n",
       "      <td>9.622155</td>\n",
       "    </tr>\n",
       "    <tr>\n",
       "      <th>1</th>\n",
       "      <td>Taichung City</td>\n",
       "      <td>台中市</td>\n",
       "      <td>2009</td>\n",
       "      <td>2</td>\n",
       "      <td>2009Q2</td>\n",
       "      <td>10.453284</td>\n",
       "    </tr>\n",
       "    <tr>\n",
       "      <th>2</th>\n",
       "      <td>Taichung City</td>\n",
       "      <td>台中市</td>\n",
       "      <td>2009</td>\n",
       "      <td>3</td>\n",
       "      <td>2009Q3</td>\n",
       "      <td>11.200537</td>\n",
       "    </tr>\n",
       "    <tr>\n",
       "      <th>3</th>\n",
       "      <td>Taichung City</td>\n",
       "      <td>台中市</td>\n",
       "      <td>2009</td>\n",
       "      <td>4</td>\n",
       "      <td>2009Q4</td>\n",
       "      <td>11.645966</td>\n",
       "    </tr>\n",
       "    <tr>\n",
       "      <th>4</th>\n",
       "      <td>Taichung City</td>\n",
       "      <td>台中市</td>\n",
       "      <td>2010</td>\n",
       "      <td>1</td>\n",
       "      <td>2010Q1</td>\n",
       "      <td>11.987186</td>\n",
       "    </tr>\n",
       "  </tbody>\n",
       "</table>\n",
       "</div>"
      ],
      "text/plain": [
       "      county_eng county  year  quarter      yq  sinyi_price\n",
       "0  Taichung City    台中市  2009        1  2009Q1     9.622155\n",
       "1  Taichung City    台中市  2009        2  2009Q2    10.453284\n",
       "2  Taichung City    台中市  2009        3  2009Q3    11.200537\n",
       "3  Taichung City    台中市  2009        4  2009Q4    11.645966\n",
       "4  Taichung City    台中市  2010        1  2010Q1    11.987186"
      ]
     },
     "execution_count": 299,
     "metadata": {},
     "output_type": "execute_result"
    }
   ],
   "source": [
    "# load the price data\n",
    "price = pd.read_csv('data/sinyi_price.csv')\n",
    "taipei_price = price[price['county_eng'] == 'Taipei City']\n",
    "taipei_price.head()"
   ]
  },
  {
   "cell_type": "code",
   "execution_count": 468,
   "id": "9bafc650-8107-422f-841b-8ece9070089b",
   "metadata": {},
   "outputs": [],
   "source": [
    "# merge price and sentiment ratio\n",
    "t1 = pd.merge(t1, taipei_price, on = 'yq', how='left')\n",
    "\n",
    "# Because the number of posts in '2007Q4', '2008Q1', '2008Q2' is lower than 500, which could affects their representive. I'd like to draw them with dash line.  \n",
    "t1['sentiment_dash'] = np.where(t1['yq'].isin(['2007Q4', '2008Q1', '2008Q2', '2008Q3']), t1['sentiment'], np.nan )\n",
    "t1['sentiment_not_dash'] = np.where(t1['yq'].isin(['2007Q4', '2008Q1', '2008Q2']),np.nan, t1['sentiment'] )"
   ]
  },
  {
   "cell_type": "code",
   "execution_count": 474,
   "id": "51c84e35-db37-4ebe-86d0-25ed402f340f",
   "metadata": {},
   "outputs": [
    {
     "data": {
      "image/png": "[encoded data removed]",
      "text/plain": [
       "<Figure size 700x400 with 2 Axes>"
      ]
     },
     "metadata": {},
     "output_type": "display_data"
    }
   ],
   "source": [
    "import matplotlib.pyplot as plt\n",
    "\n",
    "# create figure and subplot\n",
    "fig = plt.figure(figsize=(7, 4))\n",
    "ax1 = fig.add_subplot()\n",
    "\n",
    "# Create the first plot on the left y-axis\n",
    "ax1.plot(t1['yq'], t1['sentiment_not_dash'], color= '#789b73', label='sentiment')\n",
    "ax1.plot(t1['yq'], t1['sentiment_dash'], color= '#789b73', linestyle='--')\n",
    "ax1.plot(t1['yq'], [0]*len(t1), color= 'lightgray', alpha = 0.4)\n",
    "\n",
    "# Create a twin axes sharing the x-axis\n",
    "ax2 = plt.gca().twinx()\n",
    "\n",
    "# Create the second plot on the right y-axis\n",
    "ax2.plot(t1['yq'], t1['sinyi_price'], color='orange', label='house price')\n",
    "\n",
    "# set y label\n",
    "ax1.set_ylabel('Sentiment Ratio')\n",
    "ax2.set_ylabel('10K NTD')\n",
    "\n",
    "# set legend\n",
    "ax1.legend(loc = [0.75,0.91], frameon=False)\n",
    "ax2.legend(loc = [0.75,0.85], frameon=False)\n",
    "\n",
    "# set x-axis\n",
    "ax1.tick_params(axis='x', rotation=290)\n",
    "every_nth = 4\n",
    "for n, label in enumerate(ax1.xaxis.get_ticklabels()):\n",
    "    if n % every_nth != 0:\n",
    "        label.set_visible(False)\n",
    "        \n",
    "# Add title\n",
    "plt.title(\"Sentiment v.s. House Price in Taipei\")\n",
    "plt.tight_layout()"
   ]
  },
  {
   "cell_type": "markdown",
   "id": "792046a3-2c17-4ae0-8ce4-e02fe4e92443",
   "metadata": {},
   "source": [
    "This figure shows housing prices and sentiments in Taipei between 2008 and 2018. <br> <br> \n",
    "Before 2015, the public were largely positive. However, between 2015 and 2016, the morale of the housing market started slumping. This pessimistic sentiment persisted until late 2017. At first glance, the patterns of the house prices and the sentiments seem correlated. The house prices grew exponentially before 2014 but have stagnated since 2014. __This apparent alignment suggests a potential relationship between house prices and public sentiments in Taipei.__ However, a more rigorous examination still has to be done to make any further causal inferences."
   ]
  },
  {
   "cell_type": "code",
   "execution_count": 475,
   "id": "afdcddc1-1b03-4d02-a2e5-67e24a5d976a",
   "metadata": {},
   "outputs": [],
   "source": [
    "fig.savefig('plot/sentiment_and_price_in_taipei.png')"
   ]
  },
  {
   "cell_type": "code",
   "execution_count": null,
   "id": "e50ade1a-56ca-4385-b547-845436d4b794",
   "metadata": {},
   "outputs": [],
   "source": []
  }
 ],
 "metadata": {
  "kernelspec": {
   "display_name": "Python 3",
   "language": "python",
   "name": "python3"
  },
  "language_info": {
   "codemirror_mode": {
    "name": "ipython",
    "version": 3
   },
   "file_extension": ".py",
   "mimetype": "text/x-python",
   "name": "python",
   "nbconvert_exporter": "python",
   "pygments_lexer": "ipython3",
   "version": "3.9.5"
  },
  "toc-autonumbering": true,
  "toc-showcode": false,
  "toc-showmarkdowntxt": false
 },
 "nbformat": 4,
 "nbformat_minor": 5
}
