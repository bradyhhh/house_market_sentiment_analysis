{
 "cells": [
  {
   "cell_type": "markdown",
   "id": "5b2a25c4-8cfc-47e8-aae4-1ef02bae0800",
   "metadata": {},
   "source": [
    "# Import files"
   ]
  },
  {
   "cell_type": "code",
   "execution_count": 1,
   "id": "aa9fadc6-aa57-44b8-9b2f-d87762290e2a",
   "metadata": {},
   "outputs": [],
   "source": [
    "import pandas as pd\n",
    "import numpy as np\n",
    "import re\n",
    "import os"
   ]
  },
  {
   "cell_type": "code",
   "execution_count": 2,
   "id": "8986c3b7-0e33-43ac-8fbe-edd7b325c01c",
   "metadata": {},
   "outputs": [],
   "source": [
    "df_1 = pd.read_pickle('data/all_county_data.pkl')\n",
    "df_2 = pd.read_pickle('data/news.pkl')\n",
    "df_3 = pd.read_pickle('data/no_county_data.pkl')"
   ]
  },
  {
   "cell_type": "code",
   "execution_count": 3,
   "id": "f19c9732-53bb-405d-b403-009f3fe79762",
   "metadata": {},
   "outputs": [],
   "source": [
    "data = pd.DataFrame()\n",
    "data['content'] = pd.concat([df_1['content'], df_2['content'], df_3['content']])\n",
    "data = data[data['content'].apply(lambda x: isinstance(x, str))]\n",
    "data = data.reset_index(drop=True)"
   ]
  },
  {
   "cell_type": "markdown",
   "id": "4f11d65d-8612-4a10-b800-e291fee0de88",
   "metadata": {},
   "source": [
    "# Jieba word segmentation"
   ]
  },
  {
   "cell_type": "code",
   "execution_count": 4,
   "id": "db1d77f0-1ae9-4893-943b-eb06c7d9e5dd",
   "metadata": {},
   "outputs": [],
   "source": [
    "from util_text_cleaner.text_cleaner import text_cleaner"
   ]
  },
  {
   "cell_type": "markdown",
   "id": "c568a0af-afd1-4f46-b40f-528e0fb34de9",
   "metadata": {},
   "source": [
    "## Load self-defined dictionary"
   ]
  },
  {
   "cell_type": "code",
   "execution_count": 5,
   "id": "845932a4-b113-496a-8a9c-4dffe34241cb",
   "metadata": {},
   "outputs": [
    {
     "name": "stderr",
     "output_type": "stream",
     "text": [
      "Building prefix dict from the default dictionary ...\n",
      "Loading model from cache /var/folders/l6/6gclw8gd309_xq4q2s1hzmz40000gn/T/jieba.cache\n",
      "Loading model cost 0.502 seconds.\n",
      "Prefix dict has been built successfully.\n"
     ]
    }
   ],
   "source": [
    "jieba.load_userdict('util_text_cleaner/add_words.txt')"
   ]
  },
  {
   "cell_type": "markdown",
   "id": "b5294c39-3a9c-4154-b935-544f9a5b3041",
   "metadata": {},
   "source": [
    "## Preprocess and word segmentation"
   ]
  },
  {
   "cell_type": "code",
   "execution_count": 6,
   "id": "08233933-31d0-4323-949f-2f7427779198",
   "metadata": {},
   "outputs": [],
   "source": [
    "tc = text_cleaner()\n",
    "data['content_cleaned'] = tc.clean_text(data['content'])\n",
    "data['cut'] = data['content_cleaned'].apply(lambda x: jieba.lcut(x))"
   ]
  },
  {
   "cell_type": "markdown",
   "id": "a82069ca-1d82-445c-b4ae-584ad7c2061e",
   "metadata": {},
   "source": [
    "# Train Word2Vec Model"
   ]
  },
  {
   "cell_type": "code",
   "execution_count": 7,
   "id": "81fbaec3-3094-42d5-b854-70c03cbfb41e",
   "metadata": {},
   "outputs": [],
   "source": [
    "from gensim.models import Word2Vec"
   ]
  },
  {
   "cell_type": "code",
   "execution_count": 8,
   "id": "6632220f-1a63-4923-bfc3-41e0a951c38c",
   "metadata": {},
   "outputs": [],
   "source": [
    "model300 = Word2Vec(data['cut'], min_count=5, vector_size = 300)\n",
    "model300.save(\"result/word2vec_result/word2vec.model300\")"
   ]
  },
  {
   "cell_type": "code",
   "execution_count": 13,
   "id": "cdc11f76-842b-447a-a15c-22d9002ede66",
   "metadata": {},
   "outputs": [],
   "source": [
    "# model300 = Word2Vec.load(\"result/word2vec_result/word2vec.model300\")"
   ]
  },
  {
   "cell_type": "code",
   "execution_count": 15,
   "id": "11a31623-fbd1-4d37-abaa-2ae66e212870",
   "metadata": {},
   "outputs": [
    {
     "data": {
      "text/plain": [
       "[('彭總裁', 0.768768846988678),\n",
       " ('央行', 0.7219999432563782),\n",
       " ('張盛和', 0.7096009850502014),\n",
       " ('中央銀行', 0.693214476108551),\n",
       " ('柏南克', 0.6698216199874878)]"
      ]
     },
     "execution_count": 15,
     "metadata": {},
     "output_type": "execute_result"
    }
   ],
   "source": [
    "model300.wv.most_similar('彭淮南', topn=5)"
   ]
  },
  {
   "cell_type": "code",
   "execution_count": 20,
   "id": "a69f97de-9c93-476a-9266-1aab401b8dbc",
   "metadata": {},
   "outputs": [
    {
     "data": {
      "text/plain": [
       "[('屋價', 0.7702872157096863),\n",
       " ('房市', 0.6627735495567322),\n",
       " ('樓價', 0.6439915299415588),\n",
       " ('物價', 0.639778196811676),\n",
       " ('價格', 0.6287599205970764)]"
      ]
     },
     "execution_count": 20,
     "metadata": {},
     "output_type": "execute_result"
    }
   ],
   "source": [
    "model300.wv.most_similar('房價', topn=5)"
   ]
  },
  {
   "cell_type": "code",
   "execution_count": 16,
   "id": "5d778408-738e-49a7-9dba-b5924a8732d7",
   "metadata": {},
   "outputs": [
    {
     "data": {
      "text/plain": [
       "[('唱衰', 0.8389043211936951),\n",
       " ('看壞', 0.7977427840232849),\n",
       " ('唱雖', 0.7325664758682251),\n",
       " ('看空', 0.7288619875907898),\n",
       " ('唱空', 0.674124002456665)]"
      ]
     },
     "execution_count": 16,
     "metadata": {},
     "output_type": "execute_result"
    }
   ],
   "source": [
    "model300.wv.most_similar('看衰', topn=5)"
   ]
  },
  {
   "cell_type": "code",
   "execution_count": 17,
   "id": "9263f9c7-330e-4b70-9549-9caf42db6b27",
   "metadata": {},
   "outputs": [
    {
     "data": {
      "text/plain": [
       "[('向下修正', 0.8494820594787598),\n",
       " ('下跌', 0.8110339641571045),\n",
       " ('回跌', 0.8033261299133301),\n",
       " ('回檔', 0.7962967157363892),\n",
       " ('下調', 0.7624095678329468)]"
      ]
     },
     "execution_count": 17,
     "metadata": {},
     "output_type": "execute_result"
    }
   ],
   "source": [
    "model300.wv.most_similar('下修', topn=5)"
   ]
  },
  {
   "cell_type": "code",
   "execution_count": 21,
   "id": "de8fb9ba-6729-4895-92d2-0081ec6dbab0",
   "metadata": {},
   "outputs": [
    {
     "data": {
      "text/plain": [
       "[('走揚', 0.8473847508430481),\n",
       " ('上漲', 0.8464317917823792),\n",
       " ('攀升', 0.832755446434021),\n",
       " ('下滑', 0.8174716830253601),\n",
       " ('攀高', 0.8041393756866455)]"
      ]
     },
     "execution_count": 21,
     "metadata": {},
     "output_type": "execute_result"
    }
   ],
   "source": [
    "model300.wv.most_similar('上揚', topn=5)"
   ]
  },
  {
   "cell_type": "code",
   "execution_count": null,
   "id": "e09c1bb9-e480-4439-9c47-cce83d4d8777",
   "metadata": {},
   "outputs": [],
   "source": []
  }
 ],
 "metadata": {
  "kernelspec": {
   "display_name": "Python 3",
   "language": "python",
   "name": "python3"
  },
  "language_info": {
   "codemirror_mode": {
    "name": "ipython",
    "version": 3
   },
   "file_extension": ".py",
   "mimetype": "text/x-python",
   "name": "python",
   "nbconvert_exporter": "python",
   "pygments_lexer": "ipython3",
   "version": "3.9.5"
  }
 },
 "nbformat": 4,
 "nbformat_minor": 5
}
